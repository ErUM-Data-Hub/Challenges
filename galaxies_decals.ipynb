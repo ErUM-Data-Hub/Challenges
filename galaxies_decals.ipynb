{
 "cells": [
  {
   "cell_type": "code",
   "execution_count": 1,
   "id": "ZlFTGqDLqsm2",
   "metadata": {
    "colab": {
     "base_uri": "https://localhost:8080/"
    },
    "id": "ZlFTGqDLqsm2",
    "outputId": "9e738929-d9f2-4b02-a58b-aa15aad358c3"
   },
   "outputs": [
    {
     "name": "stdout",
     "output_type": "stream",
     "text": [
      "Requirement already satisfied: astronn in /usr/local/lib/python3.10/dist-packages (1.1.0)\n",
      "Requirement already satisfied: equinox in /usr/local/lib/python3.10/dist-packages (0.10.11)\n",
      "Requirement already satisfied: einops in /usr/local/lib/python3.10/dist-packages (0.6.1)\n",
      "Requirement already satisfied: numpy in /usr/local/lib/python3.10/dist-packages (from astronn) (1.23.5)\n",
      "Requirement already satisfied: astropy in /usr/local/lib/python3.10/dist-packages (from astronn) (5.3.3)\n",
      "Requirement already satisfied: h5py in /usr/local/lib/python3.10/dist-packages (from astronn) (3.9.0)\n",
      "Requirement already satisfied: matplotlib in /usr/local/lib/python3.10/dist-packages (from astronn) (3.7.1)\n",
      "Requirement already satisfied: astroquery in /usr/local/lib/python3.10/dist-packages (from astronn) (0.4.6)\n",
      "Requirement already satisfied: pandas in /usr/local/lib/python3.10/dist-packages (from astronn) (1.5.3)\n",
      "Requirement already satisfied: scikit-learn in /usr/local/lib/python3.10/dist-packages (from astronn) (1.2.2)\n",
      "Requirement already satisfied: tqdm in /usr/local/lib/python3.10/dist-packages (from astronn) (4.66.1)\n",
      "Requirement already satisfied: packaging in /usr/local/lib/python3.10/dist-packages (from astronn) (23.1)\n",
      "Requirement already satisfied: tensorflow>=2.11.0 in /usr/local/lib/python3.10/dist-packages (from astronn) (2.13.0)\n",
      "Requirement already satisfied: tensorflow-probability>=0.19.0 in /usr/local/lib/python3.10/dist-packages (from astronn) (0.20.1)\n",
      "Requirement already satisfied: jax>=0.4.13 in /usr/local/lib/python3.10/dist-packages (from equinox) (0.4.14)\n",
      "Requirement already satisfied: jaxtyping>=0.2.20 in /usr/local/lib/python3.10/dist-packages (from equinox) (0.2.22)\n",
      "Requirement already satisfied: typing-extensions>=4.5.0 in /usr/local/lib/python3.10/dist-packages (from equinox) (4.5.0)\n",
      "Requirement already satisfied: ml-dtypes>=0.2.0 in /usr/local/lib/python3.10/dist-packages (from jax>=0.4.13->equinox) (0.2.0)\n",
      "Requirement already satisfied: opt-einsum in /usr/local/lib/python3.10/dist-packages (from jax>=0.4.13->equinox) (3.3.0)\n",
      "Requirement already satisfied: scipy>=1.7 in /usr/local/lib/python3.10/dist-packages (from jax>=0.4.13->equinox) (1.11.2)\n",
      "Requirement already satisfied: typeguard>=2.13.3 in /usr/local/lib/python3.10/dist-packages (from jaxtyping>=0.2.20->equinox) (4.0.0)\n",
      "Requirement already satisfied: absl-py>=1.0.0 in /usr/local/lib/python3.10/dist-packages (from tensorflow>=2.11.0->astronn) (1.4.0)\n",
      "Requirement already satisfied: astunparse>=1.6.0 in /usr/local/lib/python3.10/dist-packages (from tensorflow>=2.11.0->astronn) (1.6.3)\n",
      "Requirement already satisfied: flatbuffers>=23.1.21 in /usr/local/lib/python3.10/dist-packages (from tensorflow>=2.11.0->astronn) (23.5.26)\n",
      "Requirement already satisfied: gast<=0.4.0,>=0.2.1 in /usr/local/lib/python3.10/dist-packages (from tensorflow>=2.11.0->astronn) (0.4.0)\n",
      "Requirement already satisfied: google-pasta>=0.1.1 in /usr/local/lib/python3.10/dist-packages (from tensorflow>=2.11.0->astronn) (0.2.0)\n",
      "Requirement already satisfied: grpcio<2.0,>=1.24.3 in /usr/local/lib/python3.10/dist-packages (from tensorflow>=2.11.0->astronn) (1.57.0)\n",
      "Requirement already satisfied: keras<2.14,>=2.13.1 in /usr/local/lib/python3.10/dist-packages (from tensorflow>=2.11.0->astronn) (2.13.1)\n",
      "Requirement already satisfied: libclang>=13.0.0 in /usr/local/lib/python3.10/dist-packages (from tensorflow>=2.11.0->astronn) (16.0.6)\n",
      "Requirement already satisfied: protobuf!=4.21.0,!=4.21.1,!=4.21.2,!=4.21.3,!=4.21.4,!=4.21.5,<5.0.0dev,>=3.20.3 in /usr/local/lib/python3.10/dist-packages (from tensorflow>=2.11.0->astronn) (3.20.3)\n",
      "Requirement already satisfied: setuptools in /usr/local/lib/python3.10/dist-packages (from tensorflow>=2.11.0->astronn) (67.7.2)\n",
      "Requirement already satisfied: six>=1.12.0 in /usr/local/lib/python3.10/dist-packages (from tensorflow>=2.11.0->astronn) (1.16.0)\n",
      "Requirement already satisfied: tensorboard<2.14,>=2.13 in /usr/local/lib/python3.10/dist-packages (from tensorflow>=2.11.0->astronn) (2.13.0)\n",
      "Requirement already satisfied: tensorflow-estimator<2.14,>=2.13.0 in /usr/local/lib/python3.10/dist-packages (from tensorflow>=2.11.0->astronn) (2.13.0)\n",
      "Requirement already satisfied: termcolor>=1.1.0 in /usr/local/lib/python3.10/dist-packages (from tensorflow>=2.11.0->astronn) (2.3.0)\n",
      "Requirement already satisfied: wrapt>=1.11.0 in /usr/local/lib/python3.10/dist-packages (from tensorflow>=2.11.0->astronn) (1.15.0)\n",
      "Requirement already satisfied: tensorflow-io-gcs-filesystem>=0.23.1 in /usr/local/lib/python3.10/dist-packages (from tensorflow>=2.11.0->astronn) (0.33.0)\n",
      "Requirement already satisfied: decorator in /usr/local/lib/python3.10/dist-packages (from tensorflow-probability>=0.19.0->astronn) (4.4.2)\n",
      "Requirement already satisfied: cloudpickle>=1.3 in /usr/local/lib/python3.10/dist-packages (from tensorflow-probability>=0.19.0->astronn) (2.2.1)\n",
      "Requirement already satisfied: dm-tree in /usr/local/lib/python3.10/dist-packages (from tensorflow-probability>=0.19.0->astronn) (0.1.8)\n",
      "Requirement already satisfied: pyerfa>=2.0 in /usr/local/lib/python3.10/dist-packages (from astropy->astronn) (2.0.0.3)\n",
      "Requirement already satisfied: PyYAML>=3.13 in /usr/local/lib/python3.10/dist-packages (from astropy->astronn) (6.0.1)\n",
      "Requirement already satisfied: requests>=2.4.3 in /usr/local/lib/python3.10/dist-packages (from astroquery->astronn) (2.31.0)\n",
      "Requirement already satisfied: beautifulsoup4>=4.3.2 in /usr/local/lib/python3.10/dist-packages (from astroquery->astronn) (4.11.2)\n",
      "Requirement already satisfied: html5lib>=0.999 in /usr/local/lib/python3.10/dist-packages (from astroquery->astronn) (1.1)\n",
      "Requirement already satisfied: keyring>=4.0 in /usr/lib/python3/dist-packages (from astroquery->astronn) (23.5.0)\n",
      "Requirement already satisfied: pyvo>=1.1 in /usr/local/lib/python3.10/dist-packages (from astroquery->astronn) (1.4.2)\n",
      "Requirement already satisfied: contourpy>=1.0.1 in /usr/local/lib/python3.10/dist-packages (from matplotlib->astronn) (1.1.0)\n",
      "Requirement already satisfied: cycler>=0.10 in /usr/local/lib/python3.10/dist-packages (from matplotlib->astronn) (0.11.0)\n",
      "Requirement already satisfied: fonttools>=4.22.0 in /usr/local/lib/python3.10/dist-packages (from matplotlib->astronn) (4.42.1)\n",
      "Requirement already satisfied: kiwisolver>=1.0.1 in /usr/local/lib/python3.10/dist-packages (from matplotlib->astronn) (1.4.5)\n",
      "Requirement already satisfied: pillow>=6.2.0 in /usr/local/lib/python3.10/dist-packages (from matplotlib->astronn) (9.4.0)\n",
      "Requirement already satisfied: pyparsing>=2.3.1 in /usr/local/lib/python3.10/dist-packages (from matplotlib->astronn) (3.1.1)\n",
      "Requirement already satisfied: python-dateutil>=2.7 in /usr/local/lib/python3.10/dist-packages (from matplotlib->astronn) (2.8.2)\n",
      "Requirement already satisfied: pytz>=2020.1 in /usr/local/lib/python3.10/dist-packages (from pandas->astronn) (2023.3.post1)\n",
      "Requirement already satisfied: joblib>=1.1.1 in /usr/local/lib/python3.10/dist-packages (from scikit-learn->astronn) (1.3.2)\n",
      "Requirement already satisfied: threadpoolctl>=2.0.0 in /usr/local/lib/python3.10/dist-packages (from scikit-learn->astronn) (3.2.0)\n",
      "Requirement already satisfied: wheel<1.0,>=0.23.0 in /usr/local/lib/python3.10/dist-packages (from astunparse>=1.6.0->tensorflow>=2.11.0->astronn) (0.41.2)\n",
      "Requirement already satisfied: soupsieve>1.2 in /usr/local/lib/python3.10/dist-packages (from beautifulsoup4>=4.3.2->astroquery->astronn) (2.5)\n",
      "Requirement already satisfied: webencodings in /usr/local/lib/python3.10/dist-packages (from html5lib>=0.999->astroquery->astronn) (0.5.1)\n",
      "Requirement already satisfied: charset-normalizer<4,>=2 in /usr/local/lib/python3.10/dist-packages (from requests>=2.4.3->astroquery->astronn) (3.2.0)\n",
      "Requirement already satisfied: idna<4,>=2.5 in /usr/local/lib/python3.10/dist-packages (from requests>=2.4.3->astroquery->astronn) (3.4)\n",
      "Requirement already satisfied: urllib3<3,>=1.21.1 in /usr/local/lib/python3.10/dist-packages (from requests>=2.4.3->astroquery->astronn) (2.0.4)\n",
      "Requirement already satisfied: certifi>=2017.4.17 in /usr/local/lib/python3.10/dist-packages (from requests>=2.4.3->astroquery->astronn) (2023.7.22)\n",
      "Requirement already satisfied: google-auth<3,>=1.6.3 in /usr/local/lib/python3.10/dist-packages (from tensorboard<2.14,>=2.13->tensorflow>=2.11.0->astronn) (2.17.3)\n",
      "Requirement already satisfied: google-auth-oauthlib<1.1,>=0.5 in /usr/local/lib/python3.10/dist-packages (from tensorboard<2.14,>=2.13->tensorflow>=2.11.0->astronn) (1.0.0)\n",
      "Requirement already satisfied: markdown>=2.6.8 in /usr/local/lib/python3.10/dist-packages (from tensorboard<2.14,>=2.13->tensorflow>=2.11.0->astronn) (3.4.4)\n",
      "Requirement already satisfied: tensorboard-data-server<0.8.0,>=0.7.0 in /usr/local/lib/python3.10/dist-packages (from tensorboard<2.14,>=2.13->tensorflow>=2.11.0->astronn) (0.7.1)\n",
      "Requirement already satisfied: werkzeug>=1.0.1 in /usr/local/lib/python3.10/dist-packages (from tensorboard<2.14,>=2.13->tensorflow>=2.11.0->astronn) (2.3.7)\n",
      "Requirement already satisfied: cachetools<6.0,>=2.0.0 in /usr/local/lib/python3.10/dist-packages (from google-auth<3,>=1.6.3->tensorboard<2.14,>=2.13->tensorflow>=2.11.0->astronn) (5.3.1)\n",
      "Requirement already satisfied: pyasn1-modules>=0.2.1 in /usr/local/lib/python3.10/dist-packages (from google-auth<3,>=1.6.3->tensorboard<2.14,>=2.13->tensorflow>=2.11.0->astronn) (0.3.0)\n",
      "Requirement already satisfied: rsa<5,>=3.1.4 in /usr/local/lib/python3.10/dist-packages (from google-auth<3,>=1.6.3->tensorboard<2.14,>=2.13->tensorflow>=2.11.0->astronn) (4.9)\n",
      "Requirement already satisfied: requests-oauthlib>=0.7.0 in /usr/local/lib/python3.10/dist-packages (from google-auth-oauthlib<1.1,>=0.5->tensorboard<2.14,>=2.13->tensorflow>=2.11.0->astronn) (1.3.1)\n",
      "Requirement already satisfied: MarkupSafe>=2.1.1 in /usr/local/lib/python3.10/dist-packages (from werkzeug>=1.0.1->tensorboard<2.14,>=2.13->tensorflow>=2.11.0->astronn) (2.1.3)\n",
      "Requirement already satisfied: pyasn1<0.6.0,>=0.4.6 in /usr/local/lib/python3.10/dist-packages (from pyasn1-modules>=0.2.1->google-auth<3,>=1.6.3->tensorboard<2.14,>=2.13->tensorflow>=2.11.0->astronn) (0.5.0)\n",
      "Requirement already satisfied: oauthlib>=3.0.0 in /usr/local/lib/python3.10/dist-packages (from requests-oauthlib>=0.7.0->google-auth-oauthlib<1.1,>=0.5->tensorboard<2.14,>=2.13->tensorflow>=2.11.0->astronn) (3.2.2)\n"
     ]
    }
   ],
   "source": [
    "!pip install astronn equinox einops"
   ]
  },
  {
   "cell_type": "code",
   "execution_count": 2,
   "id": "b6653f55-f044-4817-b56a-6c57d0ba3214",
   "metadata": {
    "id": "b6653f55-f044-4817-b56a-6c57d0ba3214"
   },
   "outputs": [],
   "source": [
    "from astroNN.datasets import load_galaxy10\n",
    "from astroNN.datasets.galaxy10 import galaxy10cls_lookup, galaxy10_confusion\n",
    "import numpy as np\n",
    "import matplotlib.pyplot as plt\n",
    "import jax"
   ]
  },
  {
   "cell_type": "markdown",
   "id": "194fd096-e945-4327-a4a6-7279af07b6dd",
   "metadata": {
    "id": "194fd096-e945-4327-a4a6-7279af07b6dd"
   },
   "source": [
    "# Galaxy 10 DECals"
   ]
  },
  {
   "cell_type": "code",
   "execution_count": null,
   "id": "e25b643e-82f4-462b-a565-fe2de619fede",
   "metadata": {
    "colab": {
     "base_uri": "https://localhost:8080/"
    },
    "id": "e25b643e-82f4-462b-a565-fe2de619fede",
    "outputId": "5ca9ddb8-be85-4427-d84a-b43606e878c4"
   },
   "outputs": [
    {
     "name": "stdout",
     "output_type": "stream",
     "text": [
      "/root/.astroNN/datasets/Galaxy10_DECals.h5 was found!\n"
     ]
    }
   ],
   "source": [
    "# To load images and labels (will download automatically at the first time)\n",
    "# First time downloading location will be ~/.astroNN/datasets/\n",
    "images, labels = load_galaxy10()"
   ]
  },
  {
   "cell_type": "code",
   "execution_count": null,
   "id": "3346fc15-8f5c-431c-997e-1e7afa90f822",
   "metadata": {
    "id": "3346fc15-8f5c-431c-997e-1e7afa90f822"
   },
   "outputs": [],
   "source": [
    "fig, axs = plt.subplots(2, 5, figsize=(12,5), layout='constrained')\n",
    "\n",
    "for ax, label in zip(np.ravel(axs), range(10)):\n",
    "    idx = np.where(labels == label)[0][0]\n",
    "    image = images[idx]\n",
    "\n",
    "    ax.imshow(image)\n",
    "    ax.axis('off')\n",
    "    ax.set_title(galaxy10cls_lookup(label))"
   ]
  },
  {
   "cell_type": "markdown",
   "id": "1e680454-ef53-43ce-abc1-add522382073",
   "metadata": {
    "id": "1e680454-ef53-43ce-abc1-add522382073"
   },
   "source": [
    "#### Remove classes that are not Spiral-like"
   ]
  },
  {
   "cell_type": "code",
   "execution_count": null,
   "id": "dc487340-fe92-4c7f-bce4-ed91747b8c77",
   "metadata": {
    "id": "dc487340-fe92-4c7f-bce4-ed91747b8c77"
   },
   "outputs": [],
   "source": [
    "remove_labels = range(5)\n",
    "\n",
    "for label in remove_labels:\n",
    "    idx = labels != label\n",
    "    labels = labels[idx]\n",
    "    images = images[idx]"
   ]
  },
  {
   "cell_type": "markdown",
   "id": "d40beb6f-0f99-47fa-bf91-92e81b504b55",
   "metadata": {
    "id": "d40beb6f-0f99-47fa-bf91-92e81b504b55"
   },
   "source": [
    "#### Shift labels to 0-4"
   ]
  },
  {
   "cell_type": "code",
   "execution_count": null,
   "id": "a33df68f-205f-40b6-a3f4-fa1ad31dde60",
   "metadata": {
    "id": "a33df68f-205f-40b6-a3f4-fa1ad31dde60"
   },
   "outputs": [],
   "source": [
    "labels = labels - 5\n",
    "\n",
    "galaxy10cls_lookup_shift = lambda x: galaxy10cls_lookup(x+5)"
   ]
  },
  {
   "cell_type": "markdown",
   "id": "6016c37b-850e-435a-b6eb-168f823be72e",
   "metadata": {
    "id": "6016c37b-850e-435a-b6eb-168f823be72e"
   },
   "source": [
    "#### Rescale images"
   ]
  },
  {
   "cell_type": "code",
   "execution_count": null,
   "id": "919a5d20-f46e-4c1e-bf0f-d419e4e0a5e0",
   "metadata": {
    "id": "919a5d20-f46e-4c1e-bf0f-d419e4e0a5e0"
   },
   "outputs": [],
   "source": [
    "images.shape"
   ]
  },
  {
   "cell_type": "code",
   "execution_count": null,
   "id": "bc3b40ee-af17-4eff-8fbf-067ee2a07e3c",
   "metadata": {
    "id": "bc3b40ee-af17-4eff-8fbf-067ee2a07e3c"
   },
   "outputs": [],
   "source": [
    "images = jax.vmap(lambda x: x / 255)(images)\n",
    "\n",
    "# crop the image a bit to get 64x64 shape\n",
    "def crop_center(images, cropx, cropy):\n",
    "    _, y, x, _ = images.shape\n",
    "    startx = x // 2 -(cropx // 2)\n",
    "    starty = y // 2 -(cropy // 2)\n",
    "    return images[:, starty:starty+cropy, startx:startx+cropx, :]\n",
    "\n",
    "images = crop_center(images=images, cropx=64, cropy=64)"
   ]
  },
  {
   "cell_type": "code",
   "execution_count": null,
   "id": "XoQabwE3nKa3",
   "metadata": {
    "id": "XoQabwE3nKa3"
   },
   "outputs": [],
   "source": [
    "images.shape"
   ]
  },
  {
   "cell_type": "code",
   "execution_count": null,
   "id": "TUyACOkX92rt",
   "metadata": {
    "id": "TUyACOkX92rt"
   },
   "outputs": [],
   "source": [
    "plt.imshow(images[0])"
   ]
  },
  {
   "cell_type": "markdown",
   "id": "d16e8d4d-fc53-446c-ad58-8c8ecdd0ab08",
   "metadata": {
    "id": "d16e8d4d-fc53-446c-ad58-8c8ecdd0ab08"
   },
   "source": [
    "#### Shuffle images"
   ]
  },
  {
   "cell_type": "code",
   "execution_count": null,
   "id": "1255be33-5860-43b0-9ebd-d7553ed4930f",
   "metadata": {
    "id": "1255be33-5860-43b0-9ebd-d7553ed4930f"
   },
   "outputs": [],
   "source": [
    "rnd_idx = np.random.choice(range(len(images)), replace=False, size=len(images))\n",
    "images = images[rnd_idx]\n",
    "labels = labels[rnd_idx]"
   ]
  },
  {
   "cell_type": "code",
   "execution_count": null,
   "id": "c7b1bf2d-768e-4053-b1bc-c9488461b371",
   "metadata": {
    "id": "c7b1bf2d-768e-4053-b1bc-c9488461b371"
   },
   "outputs": [],
   "source": [
    "fig, axs = plt.subplots(2, 5, figsize=(12,5), layout='constrained')\n",
    "\n",
    "for ax, idx in zip(np.ravel(axs), range(10)):\n",
    "    image = images[idx]\n",
    "    label = labels[idx]\n",
    "\n",
    "    ax.imshow(image)\n",
    "    ax.axis('off')\n",
    "    ax.set_title(galaxy10cls_lookup_shift(label))"
   ]
  },
  {
   "cell_type": "code",
   "execution_count": null,
   "id": "NVLPS9pDNTmz",
   "metadata": {
    "id": "NVLPS9pDNTmz"
   },
   "outputs": [],
   "source": [
    "confusion_matrix = np.zeros((5,5))\n",
    "\n",
    "\n",
    "# create the confusion matrix\n",
    "for counter, i in enumerate(labels):\n",
    "    confusion_matrix[i, labels[counter]] += 1\n",
    "\n",
    "# Plot the confusion matrix\n",
    "# galaxy10_confusion(confusion_matrix)"
   ]
  },
  {
   "cell_type": "code",
   "execution_count": null,
   "id": "l9t3AwjGNms5",
   "metadata": {
    "id": "l9t3AwjGNms5"
   },
   "outputs": [],
   "source": [
    "galaxy10_confusion(confusion_matrix)"
   ]
  },
  {
   "cell_type": "markdown",
   "id": "2dc43c14-12c6-44f7-bede-c188678c5792",
   "metadata": {
    "id": "2dc43c14-12c6-44f7-bede-c188678c5792"
   },
   "source": [
    "# Task: Find the galaxy that looks most similar to Milky Way"
   ]
  },
  {
   "cell_type": "markdown",
   "id": "e8a65c79-2dae-4530-b9a5-458b23176b6f",
   "metadata": {
    "id": "e8a65c79-2dae-4530-b9a5-458b23176b6f"
   },
   "source": [
    "<img src=\"https://www.nasa.gov/images/content/188404main_hurt_Milky_Way_2005-590_lg.jpg\" width=300>"
   ]
  },
  {
   "cell_type": "markdown",
   "id": "76b38229-eb80-4076-892c-0110d95460a9",
   "metadata": {
    "id": "76b38229-eb80-4076-892c-0110d95460a9"
   },
   "source": [
    "## Bonus task: Genereate new images that look like the Milky Way"
   ]
  }
 ],
 "metadata": {
  "accelerator": "GPU",
  "colab": {
   "gpuType": "T4",
   "provenance": []
  },
  "kernelspec": {
   "display_name": "Python 3 (ipykernel)",
   "language": "python",
   "name": "python3"
  },
  "language_info": {
   "codemirror_mode": {
    "name": "ipython",
    "version": 3
   },
   "file_extension": ".py",
   "mimetype": "text/x-python",
   "name": "python",
   "nbconvert_exporter": "python",
   "pygments_lexer": "ipython3",
   "version": "3.10.6"
  }
 },
 "nbformat": 4,
 "nbformat_minor": 5
}
